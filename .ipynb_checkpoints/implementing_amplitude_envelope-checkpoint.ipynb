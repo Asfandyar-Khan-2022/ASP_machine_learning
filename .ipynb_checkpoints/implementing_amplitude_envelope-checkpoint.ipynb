{
 "cells": [
  {
   "cell_type": "code",
   "execution_count": 1,
   "id": "7b8e8f95-3d2d-4a4c-afa6-c3d8007a743f",
   "metadata": {},
   "outputs": [],
   "source": [
    "import matplotlib.pyplot as plt\n",
    "import numpy as np\n",
    "import librosa\n",
    "import librosa.display\n",
    "import IPython.display as ipd"
   ]
  },
  {
   "cell_type": "code",
   "execution_count": null,
   "id": "db0ad7b0-d8a5-47c6-8259-c1ddad4c4229",
   "metadata": {},
   "outputs": [],
   "source": [
    "debussy_file = \"audio/debussy.wav\"\n",
    "redhot_file = \"audio/redhot.wav\"\n",
    "duke_file = \"audio/duke.wav\"\n",
    "\n",
    "# load audio files with librosa\n",
    "debussy, _ = librosa.load(debussy_file)\n",
    "redhot, _ = librosa.load(redhot_file)\n",
    "duke, _ = librosa.load(duke_file)\n"
   ]
  }
 ],
 "metadata": {
  "kernelspec": {
   "display_name": "Python 3 (ipykernel)",
   "language": "python",
   "name": "python3"
  },
  "language_info": {
   "codemirror_mode": {
    "name": "ipython",
    "version": 3
   },
   "file_extension": ".py",
   "mimetype": "text/x-python",
   "name": "python",
   "nbconvert_exporter": "python",
   "pygments_lexer": "ipython3",
   "version": "3.10.13"
  }
 },
 "nbformat": 4,
 "nbformat_minor": 5
}
